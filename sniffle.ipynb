{
 "metadata": {
  "kernelspec": {
   "display_name": "Streamlit Notebook",
   "name": "streamlit"
  }
 },
 "nbformat_minor": 5,
 "nbformat": 4,
 "cells": [
  {
   "cell_type": "code",
   "execution_count": null,
   "id": "3775908f-ca36-4846-8f38-5adca39217f2",
   "metadata": {
    "language": "python",
    "name": "CELL0"
   },
   "outputs": [],
   "source": "### You are using a notebook from my repo!! - Sean Lee\n\n# Mar 19 test commit\n\n# Import python packages\nimport streamlit as st\nimport pandas as pd\n\n# We can also use Snowpark for our analyses!\nfrom snowflake.snowpark.context import get_active_session\nsession = get_active_session()"
  },
  {
   "cell_type": "code",
   "execution_count": null,
   "id": "8d50cbf4-0c8d-4950-86cb-114990437ac9",
   "metadata": {
    "language": "sql",
    "name": "CELL1",
    "vscode": {
     "languageId": "sql"
    }
   },
   "outputs": [],
   "source": "-- Welcome to Snowflake Notebooks!\n-- Try out a SQL cell to generate some data.\n\n-- this is a test new test Feb 29 leap day!\nSELECT 'FRIDAY' as SNOWDAY, 0.2 as CHANCE_OF_SNOW\nUNION ALL\nSELECT 'SATURDAY', 0.5\nUNION ALL \nSELECT 'SUNDAY', 0.9;"
  },
  {
   "cell_type": "code",
   "execution_count": null,
   "id": "c695373e-ac74-4b62-a1f1-08206cbd5c81",
   "metadata": {
    "language": "python",
    "name": "CELL2"
   },
   "outputs": [],
   "source": [
    "# Then, we can use the python name to turn CELL1 into a Pandas dataframe\n",
    "my_df = cells.CELL1.to_df().to_pandas()\n",
    "\n",
    "# Chart the data\n",
    "st.subheader(\"Chance of SNOW¸\")\n",
    "st.line_chart(my_df, x='SNOWDAY', y='CHANCE_OF_SNOW')\n",
    "\n",
    "# Give it a go!\n",
    "st.subheader(\"Try it out yourself and show off your skills......\")"
   ]
  }
 ]
}